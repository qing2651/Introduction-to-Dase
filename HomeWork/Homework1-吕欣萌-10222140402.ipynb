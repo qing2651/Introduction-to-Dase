{
 "cells": [
  {
   "cell_type": "markdown",
   "id": "f535919b",
   "metadata": {},
   "source": [
    "# Homework1（9.24）"
   ]
  },
  {
   "cell_type": "markdown",
   "id": "0e5a6386",
   "metadata": {},
   "source": [
    "### 2023级 吕欣萌 10222140402"
   ]
  },
  {
   "cell_type": "markdown",
   "id": "fda59e75",
   "metadata": {},
   "source": [
    "1.编写Python程序，打印\"数据科学与工程导论\"，并使用 print(chr(0x2605)) 语句将这句话包围起来。"
   ]
  },
  {
   "cell_type": "code",
   "execution_count": 4,
   "id": "f3663f03",
   "metadata": {},
   "outputs": [
    {
     "name": "stdout",
     "output_type": "stream",
     "text": [
      "★\n",
      "数据科学与工程导论\n",
      "★\n"
     ]
    }
   ],
   "source": [
    "print(chr(0x2605)) \n",
    "print(\"数据科学与工程导论\")  \n",
    "print(chr(0x2605))  "
   ]
  },
  {
   "cell_type": "markdown",
   "id": "23b4adec",
   "metadata": {},
   "source": [
    "2.写一个 Python 程序，输入 x, y, z 这三个数，将这三个数从小到大使用 print 函数打印出来。"
   ]
  },
  {
   "cell_type": "code",
   "execution_count": 5,
   "id": "00513f1b",
   "metadata": {},
   "outputs": [
    {
     "name": "stdout",
     "output_type": "stream",
     "text": [
      "请输入第一个数: 265\n",
      "请输入第二个数: 5\n",
      "请输入第三个数: 5\n",
      "从小到大的顺序为: [5.0, 5.0, 265.0]\n"
     ]
    }
   ],
   "source": [
    "# 输入3个数\n",
    "x = float(input(\"请输入第一个数: \"))\n",
    "y = float(input(\"请输入第二个数: \"))\n",
    "z = float(input(\"请输入第三个数: \"))\n",
    "\n",
    "# 使用 sorted 函数对数字进行排序\n",
    "numbers = sorted([x, y, z])\n",
    "\n",
    "print(\"从小到大的顺序为:\", numbers)"
   ]
  },
  {
   "cell_type": "markdown",
   "id": "bb47ed00",
   "metadata": {},
   "source": [
    "3.写一个 Python 程序，有 w, x, y, z 四个数，将这四个数从大到小使用 print 函数打印出来。"
   ]
  },
  {
   "cell_type": "code",
   "execution_count": 6,
   "id": "bd1dc722",
   "metadata": {},
   "outputs": [
    {
     "name": "stdout",
     "output_type": "stream",
     "text": [
      "请输入第一个数: 5\n",
      "请输入第二个数: 4\n",
      "请输入第三个数: 8\n",
      "请输入第四个数: 9\n",
      "从大到小的顺序为: [9.0, 8.0, 5.0, 4.0]\n"
     ]
    }
   ],
   "source": [
    "# 输入4个数\n",
    "w = float(input(\"请输入第一个数: \"))\n",
    "x = float(input(\"请输入第二个数: \"))\n",
    "y = float(input(\"请输入第三个数: \"))\n",
    "z = float(input(\"请输入第四个数: \"))\n",
    "\n",
    "# 使用 sorted 函数对数字进行排序，reverse=True 实现从大到小\n",
    "numbers = sorted([w, x, y, z], reverse=True)\n",
    "\n",
    "print(\"从大到小的顺序为:\", numbers)"
   ]
  },
  {
   "cell_type": "markdown",
   "id": "403adfdc",
   "metadata": {},
   "source": [
    "4.写一个 Python 程序，输出 1-100 中的所有奇数。"
   ]
  },
  {
   "cell_type": "code",
   "execution_count": 7,
   "id": "2df44ae5",
   "metadata": {},
   "outputs": [
    {
     "name": "stdout",
     "output_type": "stream",
     "text": [
      "1\n",
      "3\n",
      "5\n",
      "7\n",
      "9\n",
      "11\n",
      "13\n",
      "15\n",
      "17\n",
      "19\n",
      "21\n",
      "23\n",
      "25\n",
      "27\n",
      "29\n",
      "31\n",
      "33\n",
      "35\n",
      "37\n",
      "39\n",
      "41\n",
      "43\n",
      "45\n",
      "47\n",
      "49\n",
      "51\n",
      "53\n",
      "55\n",
      "57\n",
      "59\n",
      "61\n",
      "63\n",
      "65\n",
      "67\n",
      "69\n",
      "71\n",
      "73\n",
      "75\n",
      "77\n",
      "79\n",
      "81\n",
      "83\n",
      "85\n",
      "87\n",
      "89\n",
      "91\n",
      "93\n",
      "95\n",
      "97\n",
      "99\n"
     ]
    }
   ],
   "source": [
    "for number in range(1, 101):\n",
    "    if number % 2 != 0:  # 判断是否为奇数\n",
    "        print(number)"
   ]
  },
  {
   "cell_type": "markdown",
   "id": "be0160e9",
   "metadata": {},
   "source": [
    "5.写一个 Python 程序，用 for 循环，求解 1 到 100 的和。"
   ]
  },
  {
   "cell_type": "code",
   "execution_count": 10,
   "id": "98e6a3cb",
   "metadata": {},
   "outputs": [
    {
     "name": "stdout",
     "output_type": "stream",
     "text": [
      "1到100的和为: 5050\n"
     ]
    }
   ],
   "source": [
    "# 初始化和为 0\n",
    "sum = 0\n",
    "\n",
    "# 使用 for 循环遍历 1 到 100\n",
    "for number in range(1, 101):\n",
    "    sum += number  # 将当前数字加到总和中\n",
    "\n",
    "print(\"1到100的和为:\", sum)\n"
   ]
  },
  {
   "cell_type": "markdown",
   "id": "fe716e36",
   "metadata": {},
   "source": [
    "6.写一个 Python 程序，分别用 for 和 while 循环实现对一个给定序列的倒排序输出。例如，给定 L=[1,2,3,4,5]，输出为 [5,4,3,2,1]。"
   ]
  },
  {
   "cell_type": "code",
   "execution_count": 13,
   "id": "e48eb828",
   "metadata": {},
   "outputs": [
    {
     "name": "stdout",
     "output_type": "stream",
     "text": [
      "请输入一系列数字，以逗号分隔: 1,5,9,6\n",
      "使用for循环的倒排序输出: [6, 9, 5, 1]\n"
     ]
    }
   ],
   "source": [
    "# 使用for循环\n",
    "\n",
    "# 用户自行输入序列\n",
    "user_input = input(\"请输入一系列数字，以逗号分隔: \")\n",
    "L = [int(x) for x in user_input.split(',')]  # 将输入的字符串转换为整数列表\n",
    "\n",
    "# 使用 for 循环进行倒排序输出\n",
    "reversed_list_for = []\n",
    "for i in range(len(L) - 1, -1, -1):\n",
    "    reversed_list_for.append(L[i])\n",
    "\n",
    "print(\"使用for循环的倒排序输出:\", reversed_list_for)\n"
   ]
  },
  {
   "cell_type": "code",
   "execution_count": 15,
   "id": "2dcc15cd",
   "metadata": {},
   "outputs": [
    {
     "name": "stdout",
     "output_type": "stream",
     "text": [
      "请输入一系列数字，以逗号分隔: 8,66,9,5,2,4,1,5,4\n",
      "使用while循环的倒排序输出: [4, 5, 1, 4, 2, 5, 9, 66, 8]\n"
     ]
    }
   ],
   "source": [
    "#使用while循环\n",
    "\n",
    "user_input = input(\"请输入一系列数字，以逗号分隔: \")\n",
    "L = [int(x) for x in user_input.split(',')]  # 将输入的字符串转换为整数列表\n",
    "\n",
    "# 使用 while 循环进行倒排序输出\n",
    "reversed_list_while = []\n",
    "index = len(L) - 1  # 从最后一个索引开始\n",
    "while index >= 0:\n",
    "    reversed_list_while.append(L[index])\n",
    "    index -= 1  # 递减索引\n",
    "\n",
    "print(\"使用while循环的倒排序输出:\", reversed_list_while)"
   ]
  },
  {
   "cell_type": "markdown",
   "id": "40fd22f4",
   "metadata": {},
   "source": [
    "7.写一个 Python 程序，判断一个输入的字符串 S 是否包含由两个或两个以上连续出现的相同字符组成的字符串。例如，abccccda 中就包含 cccc 这个由 4 个连续字符组成的字符串。"
   ]
  },
  {
   "cell_type": "code",
   "execution_count": 17,
   "id": "c459b10f",
   "metadata": {},
   "outputs": [
    {
     "name": "stdout",
     "output_type": "stream",
     "text": [
      "请输入一个字符串: asdfghjkl\n",
      "字符串中不包含连续出现的相同字符。\n"
     ]
    }
   ],
   "source": [
    "# 让用户自行输入字符串\n",
    "S = input(\"请输入一个字符串: \")\n",
    "\n",
    "# 初始化一个标志，表示是否找到连续相同字符\n",
    "found = False\n",
    "\n",
    "# 遍历字符串，检查连续相同字符\n",
    "for i in range(len(S) - 1):\n",
    "    if S[i] == S[i + 1]:  # 判断当前字符与下一个字符是否相同\n",
    "        # 如果找到相同字符，继续检查后续字符\n",
    "        count = 2  # 已经找到了两个相同字符\n",
    "        while i + 1 < len(S) and S[i] == S[i + 1]:\n",
    "            count += 1\n",
    "            i += 1  # 移动到下一个字符\n",
    "        \n",
    "        if count >= 2:  # 如果相同字符的数量大于等于 2\n",
    "            found = True\n",
    "            break  # 找到后可以退出循环\n",
    "\n",
    "if found:\n",
    "    print(\"字符串中包含两个或两个以上连续出现的相同字符。\")\n",
    "else:\n",
    "    print(\"字符串中不包含连续出现的相同字符。\")\n"
   ]
  },
  {
   "cell_type": "markdown",
   "id": "b980b331",
   "metadata": {},
   "source": [
    "8.写一个 Python 程序，输入一个字符串 S，去掉其中所有的空格后输出。例如，“DataScience and Engineering”，去掉空格后为“DataScienceandEngineering”。"
   ]
  },
  {
   "cell_type": "code",
   "execution_count": 18,
   "id": "2ff0eb76",
   "metadata": {},
   "outputs": [
    {
     "name": "stdout",
     "output_type": "stream",
     "text": [
      "请输入一个字符串: dcesfvdcs  busnujdmnc   f d\n",
      "去掉空格后的字符串: dcesfvdcsbusnujdmncfd\n"
     ]
    }
   ],
   "source": [
    "# 让用户输入字符串\n",
    "S = input(\"请输入一个字符串: \")\n",
    "\n",
    "# 去掉字符串中的所有空格\n",
    "S_no_spaces = S.replace(\" \", \"\")\n",
    "\n",
    "print(\"去掉空格后的字符串:\", S_no_spaces)"
   ]
  },
  {
   "cell_type": "markdown",
   "id": "558c298f",
   "metadata": {},
   "source": [
    "9.请设计一个求 3 次方根的算法（不允许直接调用求方根的函数），并给出对应的 Python 程序。 采用牛顿迭代法求解，迭代过程数学公式表示为： "
   ]
  },
  {
   "cell_type": "code",
   "execution_count": 21,
   "id": "9d3b7f87",
   "metadata": {},
   "outputs": [
    {
     "name": "stdout",
     "output_type": "stream",
     "text": [
      "请输入一个数字 a (a > 0): 5\n",
      "5.0 的三次方根是: 1.709975946676697\n"
     ]
    }
   ],
   "source": [
    "def cube_root(a, tolerance=1e-7, max_iterations=1000):\n",
    "    # 初始猜测值\n",
    "    x_n = a / 3.0  # 可以选择 a 的三分之一作为初始猜测\n",
    "    iteration = 0\n",
    "\n",
    "    while iteration < max_iterations:\n",
    "        # 计算 f(x_n) 和 f'(x_n)\n",
    "        f_x_n = x_n**3 - a\n",
    "        f_prime_x_n = 3 * x_n**2\n",
    "        \n",
    "        # 更新 x_n\n",
    "        x_n1 = x_n - f_x_n / f_prime_x_n\n",
    "\n",
    "        # 检查收敛条件\n",
    "        if abs(x_n1 - x_n) < tolerance:\n",
    "            return x_n1\n",
    "\n",
    "        x_n = x_n1\n",
    "        iteration += 1\n",
    "\n",
    "    # 如果没有收敛，返回最后的结果\n",
    "    return x_n\n",
    "\n",
    "# 让用户输入一个数\n",
    "a = float(input(\"请输入一个数字 a (a > 0): \"))\n",
    "\n",
    "# 计算 a 的三次方根\n",
    "result = cube_root(a)\n",
    "print(f\"{a} 的三次方根是: {result}\")"
   ]
  },
  {
   "cell_type": "markdown",
   "id": "52dd8bb3",
   "metadata": {},
   "source": [
    "10.写一个 Python 程序，给定一个常数 n（n>0），求 n 的阶乘，即 n!=1×2×...×(n-1)×n。例如，4!=24，5!=120。"
   ]
  },
  {
   "cell_type": "code",
   "execution_count": 20,
   "id": "89183748",
   "metadata": {},
   "outputs": [
    {
     "name": "stdout",
     "output_type": "stream",
     "text": [
      "请输入一个正整数 n (n > 0): 9\n",
      "9的阶乘是: 362880\n"
     ]
    }
   ],
   "source": [
    "# 让用户输入一个正整数 n\n",
    "n = int(input(\"请输入一个正整数 n (n > 0): \"))\n",
    "factorial = 1\n",
    "# 计算 n 的阶乘\n",
    "for i in range(1, n + 1):\n",
    "    factorial *= i  # 将当前数字乘到结果上\n",
    "\n",
    "print(f\"{n}的阶乘是: {factorial}\")"
   ]
  },
  {
   "cell_type": "code",
   "execution_count": null,
   "id": "5c9fd850",
   "metadata": {},
   "outputs": [],
   "source": []
  }
 ],
 "metadata": {
  "kernelspec": {
   "display_name": "Python 3 (ipykernel)",
   "language": "python",
   "name": "python3"
  },
  "language_info": {
   "codemirror_mode": {
    "name": "ipython",
    "version": 3
   },
   "file_extension": ".py",
   "mimetype": "text/x-python",
   "name": "python",
   "nbconvert_exporter": "python",
   "pygments_lexer": "ipython3",
   "version": "3.9.7"
  }
 },
 "nbformat": 4,
 "nbformat_minor": 5
}
