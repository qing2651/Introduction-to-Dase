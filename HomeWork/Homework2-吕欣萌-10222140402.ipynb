{
 "cells": [
  {
   "cell_type": "markdown",
   "id": "2570317f",
   "metadata": {},
   "source": [
    "# Homework2 (10.8)"
   ]
  },
  {
   "cell_type": "markdown",
   "id": "7c54d088",
   "metadata": {},
   "source": [
    "### 2023级    吕欣萌    10222140402"
   ]
  },
  {
   "cell_type": "markdown",
   "id": "43124ec2",
   "metadata": {},
   "source": [
    "1. 编写 Python 程序，求两个正整数的最大公约数。"
   ]
  },
  {
   "cell_type": "code",
   "execution_count": 3,
   "id": "3a0b67d5",
   "metadata": {},
   "outputs": [
    {
     "name": "stdout",
     "output_type": "stream",
     "text": [
      "请输入第一个正整数: 50\n",
      "请输入第二个正整数: 48\n",
      "50 和 48 的最大公约数是: 2\n"
     ]
    }
   ],
   "source": [
    "#欧几里得\n",
    "def gcd(a, b):\n",
    "    while b:\n",
    "        a, b = b, a % b\n",
    "    return a\n",
    "num1 = int(input(\"请输入第一个正整数: \"))\n",
    "num2 = int(input(\"请输入第二个正整数: \"))\n",
    "print(f\"{num1} 和 {num2} 的最大公约数是: {gcd(num1, num2)}\")"
   ]
  },
  {
   "cell_type": "code",
   "execution_count": 4,
   "id": "3bdd8969",
   "metadata": {},
   "outputs": [
    {
     "name": "stdout",
     "output_type": "stream",
     "text": [
      "请输入第一个正整数: 9\n",
      "请输入第二个正整数: 36\n",
      "9 和 36 的最大公约数是: 9\n"
     ]
    }
   ],
   "source": [
    "#递归\n",
    "def gcd(a, b):\n",
    "    if b == 0:\n",
    "        return a\n",
    "    return gcd(b, a % b)\n",
    "num1 = int(input(\"请输入第一个正整数: \"))\n",
    "num2 = int(input(\"请输入第二个正整数: \"))\n",
    "print(f\"{num1} 和 {num2} 的最大公约数是: {gcd(num1, num2)}\")"
   ]
  },
  {
   "cell_type": "markdown",
   "id": "1990a811",
   "metadata": {},
   "source": [
    "2. 用if语句实现百分制转等级制（考试成绩，60分以下不合格，60—74分合格，75—89分为良好，90分以上为优秀）。"
   ]
  },
  {
   "cell_type": "code",
   "execution_count": 11,
   "id": "24d987ce",
   "metadata": {},
   "outputs": [
    {
     "name": "stdout",
     "output_type": "stream",
     "text": [
      "请输入考试成绩（0-100）: 89\n",
      "成绩等级为: 良好\n"
     ]
    }
   ],
   "source": [
    "def convert_grade(score):\n",
    "    if 0<=score < 60:\n",
    "        return \"不合格\"\n",
    "    elif 60 <= score <= 74:\n",
    "        return \"合格\"\n",
    "    elif 75 <= score <= 89:\n",
    "        return \"良好\"\n",
    "    elif score >= 90:\n",
    "        return \"优秀\"\n",
    "    elif score <0 :\n",
    "        return \"无效成绩\"\n",
    "\n",
    "score = int(input(\"请输入考试成绩（0-100）: \"))\n",
    "grade = convert_grade(score)\n",
    "print(f\"成绩等级为: {grade}\")"
   ]
  },
  {
   "cell_type": "markdown",
   "id": "8a55724e",
   "metadata": {},
   "source": [
    "3. 编写Python程序，完成十到二进制小数的转换。"
   ]
  },
  {
   "cell_type": "code",
   "execution_count": 13,
   "id": "f2aee46e",
   "metadata": {},
   "outputs": [
    {
     "name": "stdout",
     "output_type": "stream",
     "text": [
      "请输入一个十进制小数: 885\n",
      "885.0 的二进制表示为: 1101110101.\n"
     ]
    }
   ],
   "source": [
    "def decimal_to_binary(decimal_number):\n",
    "    # 分离整数部分和小数部分\n",
    "    integer_part = int(decimal_number)\n",
    "    fractional_part = decimal_number - integer_part\n",
    "    \n",
    "    # 转换整数部分\n",
    "    binary_integer = bin(integer_part).replace(\"0b\", \"\")\n",
    "    \n",
    "    # 转换小数部分\n",
    "    binary_fractional = []\n",
    "    while fractional_part and len(binary_fractional) < 5:  # 限制小数部分最多5位\n",
    "        fractional_part *= 2\n",
    "        bit = int(fractional_part)\n",
    "        binary_fractional.append(str(bit))\n",
    "        fractional_part -= bit\n",
    "    \n",
    "    return f\"{binary_integer}.\" + ''.join(binary_fractional)\n",
    "\n",
    "decimal_number = float(input(\"请输入一个十进制小数: \"))\n",
    "binary_result = decimal_to_binary(decimal_number)\n",
    "print(f\"{decimal_number} 的二进制表示为: {binary_result}\")\n"
   ]
  },
  {
   "cell_type": "markdown",
   "id": "debe0d86",
   "metadata": {},
   "source": [
    "4. 编写Python程序，产生10-20的随机浮点数。"
   ]
  },
  {
   "cell_type": "code",
   "execution_count": 14,
   "id": "91f6febd",
   "metadata": {},
   "outputs": [
    {
     "name": "stdout",
     "output_type": "stream",
     "text": [
      "11.479702601773315\n"
     ]
    }
   ],
   "source": [
    "import random\n",
    "\n",
    "# 生成10到20之间的随机浮点数\n",
    "random_float = random.uniform(10, 20)\n",
    "\n",
    "print(random_float)"
   ]
  },
  {
   "cell_type": "markdown",
   "id": "bd02e9db",
   "metadata": {},
   "source": [
    "5. 编写一个Python函数，判断一个整数是否是回文数。回文数是指正序（从左向右）和倒序（从右向左）读都是一样的数。"
   ]
  },
  {
   "cell_type": "code",
   "execution_count": 18,
   "id": "70a12690",
   "metadata": {},
   "outputs": [
    {
     "name": "stdout",
     "output_type": "stream",
     "text": [
      "请输入一个整数: 125946\n",
      "125946 不是回文数\n"
     ]
    }
   ],
   "source": [
    "def is_palindrome(n):\n",
    "    if n < 0:\n",
    "        return False\n",
    "    s = str(n)\n",
    "    return s == s[::-1]\n",
    "\n",
    "# 获取用户输入\n",
    "num = int(input(\"请输入一个整数: \"))\n",
    "if is_palindrome(num):\n",
    "    print(f\"{num} 是回文数\")\n",
    "else:\n",
    "    print(f\"{num} 不是回文数\")"
   ]
  },
  {
   "cell_type": "markdown",
   "id": "7b41efa7",
   "metadata": {},
   "source": [
    "6.编写一个Python函数，返回一个包含斐波那契数列的前N个数的列表。斐波那契数列是一个数列，其中每个数是前两个数的和，数列以0和1开始。"
   ]
  },
  {
   "cell_type": "code",
   "execution_count": 20,
   "id": "87a62a07",
   "metadata": {},
   "outputs": [
    {
     "name": "stdout",
     "output_type": "stream",
     "text": [
      "请输入 N: 9\n",
      "[0, 1, 1, 2, 3, 5, 8, 13, 21]\n"
     ]
    }
   ],
   "source": [
    "def fibonacci(n):\n",
    "    fib_list = []\n",
    "    a, b = 0, 1\n",
    "    for _ in range(n):\n",
    "        fib_list.append(a)\n",
    "        a, b = b, a + b\n",
    "    return fib_list\n",
    "N = int(input(\"请输入 N: \"))\n",
    "print(fibonacci(N))"
   ]
  },
  {
   "cell_type": "markdown",
   "id": "a8e5982f",
   "metadata": {},
   "source": [
    "7.编写一个Python函数，接受一个整数数组作为输入，返回数组中第二大的数。如果数组中只有一个元素或数组为空，则返回-1。"
   ]
  },
  {
   "cell_type": "code",
   "execution_count": 26,
   "id": "a7094ec4",
   "metadata": {},
   "outputs": [
    {
     "name": "stdout",
     "output_type": "stream",
     "text": [
      "请输入整数数组（用逗号分隔）：5,9,85,66,35\n",
      "数组中的第二大数是：66\n"
     ]
    }
   ],
   "source": [
    "def second_largest(nums):\n",
    "    if len(nums) < 2:\n",
    "        return -1\n",
    "    \n",
    "    # 使用集合去重，然后转为列表并排序\n",
    "    unique_nums = list(set(nums))\n",
    "    \n",
    "    if len(unique_nums) < 2:\n",
    "        return -1\n",
    "    \n",
    "    unique_nums.sort()\n",
    "    \n",
    "    return unique_nums[-2]\n",
    "\n",
    "# 用户输入\n",
    "input_nums = input(\"请输入整数数组（用逗号分隔）：\")\n",
    "# 将输入的字符串转换为整数列表\n",
    "try:\n",
    "    nums = list(map(int, input_nums.split(',')))\n",
    "    result = second_largest(nums)\n",
    "    print(f\"数组中的第二大数是：{result}\")\n",
    "except ValueError:\n",
    "    print(\"输入无效，请确保输入的是整数数组。\")"
   ]
  },
  {
   "cell_type": "markdown",
   "id": "6dc6815c",
   "metadata": {},
   "source": [
    "8. 编写一个函数，使其能够用正则表达式的方式简单验证身份证号是否合法。"
   ]
  },
  {
   "cell_type": "code",
   "execution_count": 29,
   "id": "2393c857",
   "metadata": {},
   "outputs": [
    {
     "name": "stdout",
     "output_type": "stream",
     "text": [
      "请输入身份证号: 5166552006030405X\n",
      "身份证号不合法。\n"
     ]
    }
   ],
   "source": [
    "import re\n",
    "\n",
    "def validate_id_card(id_card):\n",
    "    pattern = r'^\\d{17}[\\dX]$'\n",
    "    return bool(re.match(pattern, id_card))\n",
    "\n",
    "# 用户输入身份证号\n",
    "user_input = input(\"请输入身份证号: \")\n",
    "if validate_id_card(user_input):\n",
    "    print(\"身份证号合法。\")\n",
    "else:\n",
    "    print(\"身份证号不合法。\")"
   ]
  }
 ],
 "metadata": {
  "kernelspec": {
   "display_name": "Python 3 (ipykernel)",
   "language": "python",
   "name": "python3"
  },
  "language_info": {
   "codemirror_mode": {
    "name": "ipython",
    "version": 3
   },
   "file_extension": ".py",
   "mimetype": "text/x-python",
   "name": "python",
   "nbconvert_exporter": "python",
   "pygments_lexer": "ipython3",
   "version": "3.9.7"
  }
 },
 "nbformat": 4,
 "nbformat_minor": 5
}
