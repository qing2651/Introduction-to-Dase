{
 "cells": [
  {
   "cell_type": "markdown",
   "id": "3c63dd1e",
   "metadata": {},
   "source": [
    "# Homework3 (10.15)"
   ]
  },
  {
   "cell_type": "markdown",
   "id": "0e66888c",
   "metadata": {},
   "source": [
    "### 2023级  吕欣萌  10222140402"
   ]
  },
  {
   "cell_type": "markdown",
   "id": "69e87cd3",
   "metadata": {},
   "source": [
    "1.编写 Python程序,判断输入a是否为质数"
   ]
  },
  {
   "cell_type": "code",
   "execution_count": 1,
   "id": "d1f1ed0b",
   "metadata": {},
   "outputs": [
    {
     "name": "stdout",
     "output_type": "stream",
     "text": [
      "请输入一个正整数：19\n",
      "19是质数\n"
     ]
    }
   ],
   "source": [
    "def is_prime(n):\n",
    "    if n < 2:\n",
    "        return False\n",
    "    if n == 2:\n",
    "        return True\n",
    "    if n % 2 ==0:\n",
    "        return False\n",
    "    for i in range(3, int(n**0.5) + 1,2):\n",
    "        if n % i == 0:\n",
    "            return False\n",
    "    return True\n",
    "x=int(input(\"请输入一个正整数：\"))\n",
    "if is_prime(x):\n",
    "    print(f\"{x}是质数\")\n",
    "else:\n",
    "    print(f\"{x}不是质数\")"
   ]
  },
  {
   "cell_type": "markdown",
   "id": "4efc2c7e",
   "metadata": {},
   "source": [
    "2.用Python实现插入排序该算法，不允许直接调用插入排序函数，需要手动实现其逻辑过程。"
   ]
  },
  {
   "cell_type": "code",
   "execution_count": 2,
   "id": "088f7adb",
   "metadata": {},
   "outputs": [
    {
     "name": "stdout",
     "output_type": "stream",
     "text": [
      "请输入一组数字，用空格分开: 4 88 5 9 6 2 5 14\n",
      "排序前: [4, 88, 5, 9, 6, 2, 5, 14]\n",
      "排序后: [2, 4, 5, 5, 6, 9, 14, 88]\n"
     ]
    }
   ],
   "source": [
    "def insertion_sort(arr):\n",
    "    # 从第二个元素开始遍历，因为第一个元素被认为已经排序\n",
    "    for i in range(1, len(arr)):\n",
    "        key = arr[i]  # 当前待插入的元素\n",
    "        j = i - 1\n",
    "        # 向左遍历已排序部分，将大于当前元素的值向右移动\n",
    "        while j >= 0 and arr[j] > key:\n",
    "            arr[j + 1] = arr[j]  # 将大于key的元素右移\n",
    "            j -= 1\n",
    "        arr[j + 1] = key  # 将key插入到正确位置\n",
    "\n",
    "arr = list(map(int, input(\"请输入一组数字，用空格分开: \").split()))\n",
    "\n",
    "\n",
    "print(\"排序前:\", arr)\n",
    "\n",
    "insertion_sort(arr)\n",
    "\n",
    "print(\"排序后:\", arr)"
   ]
  },
  {
   "cell_type": "markdown",
   "id": "51d7fd72",
   "metadata": {},
   "source": [
    "3.用Python实现选择排序该算法，不允许直接调用插入排序函数，需要手动实现其逻辑过程。"
   ]
  },
  {
   "cell_type": "code",
   "execution_count": 3,
   "id": "a8ec27e4",
   "metadata": {},
   "outputs": [
    {
     "name": "stdout",
     "output_type": "stream",
     "text": [
      "请输入一组数字，用空格分开: 48 58 69 69 325 4 8 5 9 6 3 5 \n",
      "排序前: [48, 58, 69, 69, 325, 4, 8, 5, 9, 6, 3, 5]\n",
      "排序后: [3, 4, 5, 5, 6, 8, 9, 48, 58, 69, 69, 325]\n"
     ]
    }
   ],
   "source": [
    "def selection_sort(arr):\n",
    "    # 遍历数组\n",
    "    for i in range(len(arr)):\n",
    "        # 假设当前元素是最小值\n",
    "        min_index = i\n",
    "        # 从未排序部分中找出最小值\n",
    "        for j in range(i + 1, len(arr)):\n",
    "            if arr[j] < arr[min_index]:\n",
    "                min_index = j\n",
    "        # 将最小值与当前元素交换位置\n",
    "        arr[i], arr[min_index] = arr[min_index], arr[i]\n",
    "\n",
    "arr = list(map(int, input(\"请输入一组数字，用空格分开: \").split()))\n",
    "\n",
    "print(\"排序前:\", arr)\n",
    "\n",
    "selection_sort(arr)\n",
    "\n",
    "print(\"排序后:\", arr)"
   ]
  },
  {
   "cell_type": "markdown",
   "id": "8ffa06eb",
   "metadata": {},
   "source": [
    "4.用Python实现快速排序该算法，不允许直接调用插入排序函数，需要手动实现其逻辑过程。"
   ]
  },
  {
   "cell_type": "code",
   "execution_count": 4,
   "id": "28f8a9f9",
   "metadata": {},
   "outputs": [
    {
     "name": "stdout",
     "output_type": "stream",
     "text": [
      "请输入一组数字，用空格分开: 4 8 7 5 69 55 2 5 8 7 4 \n",
      "排序前: [4, 8, 7, 5, 69, 55, 2, 5, 8, 7, 4]\n",
      "排序后: [2, 4, 4, 5, 5, 7, 7, 8, 8, 55, 69]\n"
     ]
    }
   ],
   "source": [
    "def quicksort(arr):\n",
    "    # 基本情况：当数组长度小于等于1时，已经是有序的\n",
    "    if len(arr) <= 1:\n",
    "        return arr\n",
    "    else:\n",
    "        # 选择基准元素，这里选择数组的最后一个元素作为基准\n",
    "        pivot = arr[-1]\n",
    "        # 定义两个子数组：一个存放比基准小的元素，另一个存放比基准大的元素\n",
    "        less_than_pivot = [x for x in arr[:-1] if x <= pivot]\n",
    "        greater_than_pivot = [x for x in arr[:-1] if x > pivot]\n",
    "        \n",
    "        # 递归地对这两个子数组进行排序，最后返回排序好的数组\n",
    "        return quicksort(less_than_pivot) + [pivot] + quicksort(greater_than_pivot)\n",
    "\n",
    "arr = list(map(int, input(\"请输入一组数字，用空格分开: \").split()))\n",
    "\n",
    "print(\"排序前:\", arr)\n",
    "\n",
    "sorted_arr = quicksort(arr)\n",
    "\n",
    "print(\"排序后:\", sorted_arr)"
   ]
  },
  {
   "cell_type": "markdown",
   "id": "f043910b",
   "metadata": {},
   "source": [
    "5.使用 Python 随机生成三组长度递增的随机数列，长度分别为100、1000、10000，对生成的随机数组使用不同的排序算法，例如选择排序和归并排序，至少三种排序方法。对这些数列的数据排序，并分析不同排序算法在不同长度数列下的运行效果，例如运行时间等指标。（可以使用排序函数）"
   ]
  },
  {
   "cell_type": "code",
   "execution_count": 5,
   "id": "911f563c",
   "metadata": {},
   "outputs": [
    {
     "name": "stdout",
     "output_type": "stream",
     "text": [
      "\n",
      "数组大小: 100\n",
      "Selection Sort: 0.000999 秒\n",
      "Merge Sort: 0.000000 秒\n",
      "Quick Sort: 0.000999 秒\n",
      "\n",
      "数组大小: 1000\n",
      "Selection Sort: 0.018016 秒\n",
      "Merge Sort: 0.002000 秒\n",
      "Quick Sort: 0.001001 秒\n",
      "\n",
      "数组大小: 10000\n",
      "Selection Sort: 1.585403 秒\n",
      "Merge Sort: 0.020004 秒\n",
      "Quick Sort: 0.009271 秒\n",
      "\n",
      "排序性能比较（时间以秒为单位）：\n",
      "\n",
      "数组大小: 100\n",
      "Selection Sort: 0.000999 秒\n",
      "Merge Sort: 0.000000 秒\n",
      "Quick Sort: 0.000999 秒\n",
      "\n",
      "数组大小: 1000\n",
      "Selection Sort: 0.018016 秒\n",
      "Merge Sort: 0.002000 秒\n",
      "Quick Sort: 0.001001 秒\n",
      "\n",
      "数组大小: 10000\n",
      "Selection Sort: 1.585403 秒\n",
      "Merge Sort: 0.020004 秒\n",
      "Quick Sort: 0.009271 秒\n"
     ]
    }
   ],
   "source": [
    "import random\n",
    "import time\n",
    "\n",
    "# 选择排序算法\n",
    "def selection_sort(arr):\n",
    "    for i in range(len(arr)):\n",
    "        min_index = i\n",
    "        for j in range(i+1, len(arr)):\n",
    "            if arr[j] < arr[min_index]:\n",
    "                min_index = j\n",
    "        arr[i], arr[min_index] = arr[min_index], arr[i]\n",
    "\n",
    "# 归并排序算法\n",
    "def merge_sort(arr):\n",
    "    if len(arr) > 1:\n",
    "        mid = len(arr) // 2  # 找到中间点\n",
    "        L = arr[:mid]        # 左半部分\n",
    "        R = arr[mid:]        # 右半部分\n",
    "\n",
    "        merge_sort(L)        # 递归排序左半部分\n",
    "        merge_sort(R)        # 递归排序右半部分\n",
    "\n",
    "        i = j = k = 0\n",
    "\n",
    "        # 合并两个子数组\n",
    "        while i < len(L) and j < len(R):\n",
    "            if L[i] < R[j]:\n",
    "                arr[k] = L[i]\n",
    "                i += 1\n",
    "            else:\n",
    "                arr[k] = R[j]\n",
    "                j += 1\n",
    "            k += 1\n",
    "\n",
    "        # 检查剩余元素\n",
    "        while i < len(L):\n",
    "            arr[k] = L[i]\n",
    "            i += 1\n",
    "            k += 1\n",
    "\n",
    "        while j < len(R):\n",
    "            arr[k] = R[j]\n",
    "            j += 1\n",
    "            k += 1\n",
    "\n",
    "# 快速排序算法\n",
    "def quicksort(arr):\n",
    "    if len(arr) <= 1:\n",
    "        return arr\n",
    "    pivot = arr[len(arr) // 2]\n",
    "    left = [x for x in arr if x < pivot]\n",
    "    middle = [x for x in arr if x == pivot]\n",
    "    right = [x for x in arr if x > pivot]\n",
    "    return quicksort(left) + middle + quicksort(right)\n",
    "\n",
    "# 测量排序算法运行时间的函数\n",
    "def measure_time(sort_func, arr):\n",
    "    start_time = time.time()  # 记录开始时间\n",
    "    sort_func(arr)            # 运行排序算法\n",
    "    end_time = time.time()    # 记录结束时间\n",
    "    return end_time - start_time  # 返回运行时间\n",
    "\n",
    "# 随机生成不同长度的数组\n",
    "arr_100 = [random.randint(1, 1000) for _ in range(100)]\n",
    "arr_1000 = [random.randint(1, 1000) for _ in range(1000)]\n",
    "arr_10000 = [random.randint(1, 1000) for _ in range(10000)]\n",
    "\n",
    "# 深拷贝数组以保证每次排序都是未排序的初始数组\n",
    "import copy\n",
    "\n",
    "# 测试每种排序算法在不同大小数组上的运行时间\n",
    "sizes = [100, 1000, 10000]\n",
    "arrays = [arr_100, arr_1000, arr_10000]\n",
    "\n",
    "sorting_algorithms = {\n",
    "    \"Selection Sort\": selection_sort,\n",
    "    \"Merge Sort\": merge_sort,\n",
    "    \"Quick Sort\": quicksort\n",
    "}\n",
    "\n",
    "# 结果存储\n",
    "results = {}\n",
    "\n",
    "for size, array in zip(sizes, arrays):\n",
    "    print(f\"\\n数组大小: {size}\")\n",
    "    results[size] = {}\n",
    "    \n",
    "    for algo_name, algo_func in sorting_algorithms.items():\n",
    "        # 每次排序前深拷贝数组，确保原数组不变\n",
    "        array_copy = copy.deepcopy(array)\n",
    "        time_taken = measure_time(algo_func, array_copy)\n",
    "        results[size][algo_name] = time_taken\n",
    "        print(f\"{algo_name}: {time_taken:.6f} 秒\")\n",
    "\n",
    "# 输出结果分析\n",
    "print(\"\\n排序性能比较（时间以秒为单位）：\")\n",
    "for size, times in results.items():\n",
    "    print(f\"\\n数组大小: {size}\")\n",
    "    for algo_name, time_taken in times.items():\n",
    "        print(f\"{algo_name}: {time_taken:.6f} 秒\")"
   ]
  },
  {
   "cell_type": "markdown",
   "id": "b06e1439",
   "metadata": {},
   "source": [
    "6.使用python代码获取当前系统时间。"
   ]
  },
  {
   "cell_type": "code",
   "execution_count": 6,
   "id": "1d96c641",
   "metadata": {},
   "outputs": [
    {
     "name": "stdout",
     "output_type": "stream",
     "text": [
      "当前系统时间为： 2024-10-16 21:50:50\n"
     ]
    }
   ],
   "source": [
    "from datetime import datetime\n",
    "\n",
    "current_time = datetime.now()\n",
    "\n",
    "print(\"当前系统时间为：\",current_time.strftime(\"%Y-%m-%d %H:%M:%S\"))"
   ]
  },
  {
   "cell_type": "markdown",
   "id": "e9849708",
   "metadata": {},
   "source": [
    "7.Homework/data文件夹下的stuGrade.csv文件中包含5位同学的学号、语文成绩、数学成绩和英语成绩，请先用记事本打开该文件，查看文件内容，然后编写Python程序，读取该文件，并计算出各科的平均成绩（保留2位小数）。"
   ]
  },
  {
   "cell_type": "code",
   "execution_count": 7,
   "id": "0f6ce450",
   "metadata": {},
   "outputs": [
    {
     "name": "stdout",
     "output_type": "stream",
     "text": [
      "语文平均成绩: 82.6\n",
      "数学平均成绩: 81.0\n",
      "英语平均成绩: 81.8\n"
     ]
    }
   ],
   "source": [
    "import csv\n",
    "\n",
    "# 初始化成绩的累加变量\n",
    "chinese_total = 0\n",
    "math_total = 0\n",
    "english_total = 0\n",
    "\n",
    "# 记录学生人数\n",
    "student_count = 0\n",
    "\n",
    "# 读取文件 stuGrade.csv\n",
    "with open('C:/Users/86137/Desktop/导论/Homework/stuGrade.csv', 'r', encoding='utf-8') as file:\n",
    "    reader = csv.reader(file)\n",
    "    header = next(reader)  # 跳过标题行\n",
    "    \n",
    "    for row in reader:\n",
    "        student_count += 1\n",
    "        chinese_total += int(row[1])   # 语文成绩在第2列\n",
    "        math_total += int(row[2])      # 数学成绩在第3列\n",
    "        english_total += int(row[3])   # 英语成绩在第4列\n",
    "\n",
    "# 计算平均成绩，保留两位小数\n",
    "chinese_avg = round(chinese_total / student_count, 2)\n",
    "math_avg = round(math_total / student_count, 2)\n",
    "english_avg = round(english_total / student_count, 2)\n",
    "\n",
    "# 输出各科的平均成绩\n",
    "print(f\"语文平均成绩: {chinese_avg}\")\n",
    "print(f\"数学平均成绩: {math_avg}\")\n",
    "print(f\"英语平均成绩: {english_avg}\")"
   ]
  },
  {
   "cell_type": "markdown",
   "id": "7bc880ee",
   "metadata": {},
   "source": [
    "8.请在第7题的代码继续编写Python程序，将以下内容写入my.txt文件中，一并上传到github中。\n",
    "\n",
    "第1行：你的学号和姓名\n",
    "\n",
    "第2行：3门课程的平均成绩（任意课程），保留2位小数，以英文逗号间隔\n",
    "\n",
    "第3行：系统当前时间，格式例如2020-01-01 12:00:00\n",
    "\n",
    "第4行：两秒后的系统当前时间（利用sleep()方法）"
   ]
  },
  {
   "cell_type": "code",
   "execution_count": 8,
   "id": "f0cb87dd",
   "metadata": {},
   "outputs": [
    {
     "name": "stdout",
     "output_type": "stream",
     "text": [
      "内容已成功写入 my.txt 文件。\n"
     ]
    }
   ],
   "source": [
    "import csv\n",
    "import time\n",
    "from datetime import datetime\n",
    "\n",
    "# 初始化成绩的累加变量\n",
    "chinese_total = 0\n",
    "math_total = 0\n",
    "english_total = 0\n",
    "\n",
    "# 记录学生人数\n",
    "student_count = 0\n",
    "\n",
    "# 读取文件 stuGrade.csv 并计算平均成绩\n",
    "with open('C:/Users/86137/Desktop/导论/Homework/stuGrade.csv', 'r', encoding='utf-8') as file:\n",
    "    reader = csv.reader(file)\n",
    "    header = next(reader)  # 跳过标题行\n",
    "    \n",
    "    for row in reader:\n",
    "        student_count += 1\n",
    "        chinese_total += int(row[1])   # 语文成绩在第2列\n",
    "        math_total += int(row[2])      # 数学成绩在第3列\n",
    "        english_total += int(row[3])   # 英语成绩在第4列\n",
    "\n",
    "# 计算平均成绩，保留两位小数\n",
    "chinese_avg = round(chinese_total / student_count, 2)\n",
    "math_avg = round(math_total / student_count, 2)\n",
    "english_avg = round(english_total / student_count, 2)\n",
    "\n",
    "# 获取当前时间\n",
    "current_time = datetime.now().strftime('%Y-%m-%d %H:%M:%S')\n",
    "\n",
    "# 写入 my.txt 文件\n",
    "with open('C:/Users/86137/Desktop/my.txt', 'w', encoding='utf-8') as f:\n",
    "    # 第1行：写入学号和姓名\n",
    "    f.write(\"学号: 10222140402, 姓名: 吕欣萌\\n\")\n",
    "    \n",
    "    # 第2行：写入平均成绩，保留两位小数，成绩之间用英文逗号隔开\n",
    "    f.write(f\"{chinese_avg},{math_avg},{english_avg}\\n\")\n",
    "    \n",
    "    # 第3行：写入当前时间\n",
    "    f.write(f\"{current_time}\\n\")\n",
    "    \n",
    "    # 等待2秒\n",
    "    time.sleep(2)\n",
    "    \n",
    "    # 获取两秒后的当前时间\n",
    "    future_time = datetime.now().strftime('%Y-%m-%d %H:%M:%S')\n",
    "    \n",
    "    # 第4行：写入两秒后的当前时间\n",
    "    f.write(f\"{future_time}\\n\")\n",
    "\n",
    "print(\"内容已成功写入 my.txt 文件。\")"
   ]
  }
 ],
 "metadata": {
  "kernelspec": {
   "display_name": "Python 3 (ipykernel)",
   "language": "python",
   "name": "python3"
  },
  "language_info": {
   "codemirror_mode": {
    "name": "ipython",
    "version": 3
   },
   "file_extension": ".py",
   "mimetype": "text/x-python",
   "name": "python",
   "nbconvert_exporter": "python",
   "pygments_lexer": "ipython3",
   "version": "3.9.7"
  }
 },
 "nbformat": 4,
 "nbformat_minor": 5
}
