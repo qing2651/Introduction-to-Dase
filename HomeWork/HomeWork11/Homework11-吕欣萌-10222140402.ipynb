{
 "cells": [
  {
   "cell_type": "markdown",
   "id": "08aee485-ac64-4d2d-a4c6-8fe8c3ecbe0b",
   "metadata": {},
   "source": [
    "# Homework 11"
   ]
  },
  {
   "cell_type": "markdown",
   "id": "19eb8a28-f5f7-484f-8437-8ba4090d26b4",
   "metadata": {},
   "source": [
    "### 2023级   10222140402   吕欣萌"
   ]
  },
  {
   "cell_type": "markdown",
   "id": "c35f1020-dae0-4dca-9e79-16a63ac7a51c",
   "metadata": {},
   "source": [
    "互联网中充斥着大量钓鱼欺诈类网站。这类非法网站通常试图掩人耳目、充当正规网站，而实际上却是在窃取用户的身份、密码、交易等重要信息 机器学习在信息安全领域中的一个重要应用就是用来识别这些钓鱼网站。fraudulent.csv在data文件夹中。\n",
    "\n",
    "fraudulent.csv文件中含有10,086条数据，每条数据含有18个特征以及1个标签。各个特征的含义如下：\n",
    "\n",
    "contain_IP：网址中是否包涵ip，比如http://121.99.3.123/fake.html 包含ip。1表示包含，0表示不包含；\n",
    "is_long：网址字符是否过长。1表示网址过长，0表示网址不长；\n",
    "is_tinyurl：网址是否是短网址。比如https://bit.ly/2kXX6jV 就是短网址。1表示是短网址，0表示不是；\n",
    "contain_at：网址是否包含“@”符号。1表示包含，0表示不包含；\n",
    "contain_double_slash：网址是否包含“//”符号，该符号用来表示网址跳转。1表示包含，0表示不包含；\n",
    "contain_dash：网址是否包含“-”符号，该符号经常帮助用来伪装真网站，比如www.my-taobao.com 。 1表示包含，0表示不包含；\n",
    "contain_subdomain：网址是否包含子域名，比如www.ecnu.edu.cn 就包含edu和cn子域名。1表示包含，0表示不包含；\n",
    "is_SSL：网址是否是https安全链接。1表示包含，0表示不包含；\n",
    "with_long_history：网址所属的主域名存在的时间。1表示长久，0表示不长久；\n",
    "contain_icon：网址网页是否有小图标。1表示包含，0表示不包含；\n",
    "contain_ext_domain：该网页是否加载其他域名下的附件或者网页。1表示包含，0表示不包含；\n",
    "contain_email_to：该网页是否包含发送邮件的组件。1表示包含，0表示不包含；\n",
    "allow_right_click：该网页是否允许用户进行右击操作。1表示允许，0表示不允许；\n",
    "contain_pop_up_windowL：该网页是否包含弹窗。1表示包含，0表示不包含；\n",
    "contain_Iframe：该网页是否包含Iframe（嵌套网页）。1表示包含，0表示不包含；\n",
    "has_DNSRecord：网址是否有DNS记录。1表示有，0表示无；\n",
    "traffic：该网站的流量大小。1表示大，0表示小；\n",
    "google_rank：该网址在google搜索中的排名。1表示高于同类网站的平均排名，0表示低于同类网站的平均排名；\n",
    "\n",
    "y：表示网站是否是钓鱼欺诈网站，1表示是，0表示不是。\n",
    "原始数据中含有大量缺失值，请自行处理这些缺失值（可以剔除缺失值过多的列或者使用众数填充等方法）。\n",
    "\n",
    "将原始数据分为训练集、测试集（随机种子请设置为1）（若有需要可以将训练集进一步分为训练集和验证集）。\n",
    "\n",
    "现在请建立一个二分类模型，使用训练集训练模型，再使用测试集测试模型。\n",
    "\n",
    "评估指标为F1值\n",
    "\n",
    "分类模型可采用：k-近邻、决策树、逻辑回归、支持向量机等。\n",
    "\n",
    "可以与周围同学比较一下F1值的大小（越接近1越好），看看谁的数据预处理和分类模型更强。"
   ]
  },
  {
   "cell_type": "code",
   "execution_count": 34,
   "id": "f3fac02e-f8ef-4136-be33-293e0ddc77db",
   "metadata": {},
   "outputs": [
    {
     "name": "stdout",
     "output_type": "stream",
     "text": [
      "   contain_IP  is_long  is_tinyurl  contain_at  contain_double_slash  \\\n",
      "0         1.0      1.0         1.0         1.0                   1.0   \n",
      "1         0.0      0.0         1.0         1.0                   1.0   \n",
      "2         0.0      0.0         1.0         1.0                   1.0   \n",
      "3         1.0      0.0         1.0         1.0                   1.0   \n",
      "4         1.0      0.0         1.0         1.0                   1.0   \n",
      "\n",
      "   contain_dash  contain_subdomain  is_SSL  with_long_history  contain_icon  \\\n",
      "0           0.0                1.0     0.0                0.0           1.0   \n",
      "1           0.0                0.0     0.0                0.0           NaN   \n",
      "2           0.0                1.0     1.0                NaN           NaN   \n",
      "3           0.0                0.0     0.0                1.0           1.0   \n",
      "4           0.0                0.0     1.0                NaN           1.0   \n",
      "\n",
      "   contain_ext_domain  contain_email_to  allow_right_click  \\\n",
      "0                 1.0               NaN                NaN   \n",
      "1                 1.0               1.0                1.0   \n",
      "2                 NaN               1.0                NaN   \n",
      "3                 0.0               1.0                1.0   \n",
      "4                 0.0               1.0                NaN   \n",
      "\n",
      "   contain_pop_up_window  contain_Iframe  has_DNSRecord  traffic  google_rank  \\\n",
      "0                    1.0             1.0            1.0      1.0          1.0   \n",
      "1                    0.0             1.0            NaN      1.0          0.0   \n",
      "2                    1.0             1.0            1.0      1.0          1.0   \n",
      "3                    1.0             1.0            1.0      1.0          1.0   \n",
      "4                    1.0             1.0            1.0      NaN          0.0   \n",
      "\n",
      "   y  \n",
      "0  0  \n",
      "1  1  \n",
      "2  0  \n",
      "3  1  \n",
      "4  0  \n",
      "<class 'pandas.core.frame.DataFrame'>\n",
      "RangeIndex: 10086 entries, 0 to 10085\n",
      "Data columns (total 19 columns):\n",
      " #   Column                 Non-Null Count  Dtype  \n",
      "---  ------                 --------------  -----  \n",
      " 0   contain_IP             9996 non-null   float64\n",
      " 1   is_long                9997 non-null   float64\n",
      " 2   is_tinyurl             9998 non-null   float64\n",
      " 3   contain_at             10004 non-null  float64\n",
      " 4   contain_double_slash   9970 non-null   float64\n",
      " 5   contain_dash           9992 non-null   float64\n",
      " 6   contain_subdomain      9989 non-null   float64\n",
      " 7   is_SSL                 9990 non-null   float64\n",
      " 8   with_long_history      7291 non-null   float64\n",
      " 9   contain_icon           8728 non-null   float64\n",
      " 10  contain_ext_domain     8559 non-null   float64\n",
      " 11  contain_email_to       8007 non-null   float64\n",
      " 12  allow_right_click      6679 non-null   float64\n",
      " 13  contain_pop_up_window  9807 non-null   float64\n",
      " 14  contain_Iframe         9427 non-null   float64\n",
      " 15  has_DNSRecord          8885 non-null   float64\n",
      " 16  traffic                8579 non-null   float64\n",
      " 17  google_rank            9422 non-null   float64\n",
      " 18  y                      10086 non-null  int64  \n",
      "dtypes: float64(18), int64(1)\n",
      "memory usage: 1.5 MB\n",
      "None\n"
     ]
    }
   ],
   "source": [
    "#1.导入库\n",
    "import pandas as pd\n",
    "from sklearn.model_selection import train_test_split\n",
    "from sklearn.neighbors import KNeighborsClassifier\n",
    "from sklearn.tree import DecisionTreeClassifier\n",
    "from sklearn.linear_model import LogisticRegression\n",
    "from sklearn.metrics import f1_score\n",
    "from sklearn.svm import SVC\n",
    "import numpy as np\n",
    "\n",
    "#2.读取数据并查看基本信息\n",
    "data = pd.read_csv('C:/Users/86137/Desktop/fraudulent.csv')\n",
    "print(data.head())  # 查看前几行数据\n",
    "print(data.info())  # 查看数据的基本信息，包括缺失值情况等"
   ]
  },
  {
   "cell_type": "code",
   "execution_count": 35,
   "id": "a74a63ca-36af-4a14-bf26-db84523edfc1",
   "metadata": {},
   "outputs": [
    {
     "name": "stdout",
     "output_type": "stream",
     "text": [
      "F1值: 0.8546637744034707\n"
     ]
    }
   ],
   "source": [
    "#3.用每列的众数填充缺失值\n",
    "data.fillna(data.mode().iloc[0], inplace=True)\n",
    "#4.划分数据集\n",
    "X = data.drop('y', axis=1)  # 特征数据\n",
    "y = data['y']  # 标签数据\n",
    "X_train, X_test, y_train, y_test = train_test_split(X, y, test_size=0.45, random_state=1)\n",
    "#5.构建并训练模型\n",
    "model = LogisticRegression()\n",
    "model.fit(X_train, y_train)\n",
    "#6. 使用测试集进行预测并计算 F1 值\n",
    "y_pred = model.predict(X_test)\n",
    "f1 = f1_score(y_test, y_pred)\n",
    "print(\"F1值:\", f1)"
   ]
  },
  {
   "cell_type": "code",
   "execution_count": 36,
   "id": "e6b74537-fa99-4b00-8c4c-5e8bea609163",
   "metadata": {},
   "outputs": [
    {
     "name": "stdout",
     "output_type": "stream",
     "text": [
      "K-近邻模型的F1值: 0.8387815750371471\n"
     ]
    }
   ],
   "source": [
    "# K-近邻分类模型\n",
    "knn_model = KNeighborsClassifier()\n",
    "knn_model.fit(X_train, y_train)\n",
    "knn_y_pred = knn_model.predict(X_test)\n",
    "knn_f1 = f1_score(y_test, knn_y_pred)\n",
    "print(\"K-近邻模型的F1值:\", knn_f1)"
   ]
  },
  {
   "cell_type": "code",
   "execution_count": 30,
   "id": "271ebd91-e3b3-4407-b42c-b08d43acffba",
   "metadata": {},
   "outputs": [
    {
     "name": "stdout",
     "output_type": "stream",
     "text": [
      "决策树模型的F1值: 0.855852950661077\n"
     ]
    }
   ],
   "source": [
    "# 决策树分类模型\n",
    "dt_model = DecisionTreeClassifier()\n",
    "dt_model.fit(X_train, y_train)\n",
    "dt_y_pred = dt_model.predict(X_test)\n",
    "dt_f1 = f1_score(y_test, dt_y_pred)\n",
    "print(\"决策树模型的F1值:\", dt_f1)"
   ]
  },
  {
   "cell_type": "code",
   "execution_count": 31,
   "id": "cbf4561f-f6c8-4d5b-95cf-168797e44bb1",
   "metadata": {},
   "outputs": [
    {
     "name": "stdout",
     "output_type": "stream",
     "text": [
      "逻辑回归模型的F1值: 0.8556734169077467\n"
     ]
    }
   ],
   "source": [
    "# 逻辑回归分类模型\n",
    "lr_model = LogisticRegression()\n",
    "lr_model.fit(X_train, y_train)\n",
    "lr_y_pred = lr_model.predict(X_test)\n",
    "lr_f1 = f1_score(y_test, lr_y_pred)\n",
    "print(\"逻辑回归模型的F1值:\", lr_f1)"
   ]
  },
  {
   "cell_type": "code",
   "execution_count": 32,
   "id": "b567e33b-325e-472b-82f6-c0791c84cd5b",
   "metadata": {},
   "outputs": [
    {
     "name": "stdout",
     "output_type": "stream",
     "text": [
      "支持向量机模型的F1值: 0.8649693844666452\n"
     ]
    }
   ],
   "source": [
    "# 创建支持向量机分类模型实例，可按需调整参数，例如设置核函数等\n",
    "svc_model = SVC(kernel='rbf')  # 这里使用径向基核函数（常用的一种核函数选择），你可以尝试其他核函数如'linear'等\n",
    "svc_model.fit(X_train, y_train)\n",
    "y_pred = svc_model.predict(X_test)\n",
    "f1 = f1_score(y_test, y_pred)\n",
    "print(\"支持向量机模型的F1值:\", f1)"
   ]
  },
  {
   "cell_type": "code",
   "execution_count": null,
   "id": "fc4b9c7e-92aa-4b53-b972-0d775038f323",
   "metadata": {},
   "outputs": [],
   "source": []
  },
  {
   "cell_type": "code",
   "execution_count": null,
   "id": "9e703820-03f1-480d-b2f8-368f17186fc0",
   "metadata": {},
   "outputs": [],
   "source": []
  },
  {
   "cell_type": "code",
   "execution_count": null,
   "id": "01c6ec40-b04c-41df-8d52-ec518298dc2d",
   "metadata": {},
   "outputs": [],
   "source": []
  },
  {
   "cell_type": "code",
   "execution_count": null,
   "id": "9a1a8700-5e94-4941-beab-8ac3aa0c352d",
   "metadata": {},
   "outputs": [],
   "source": []
  }
 ],
 "metadata": {
  "kernelspec": {
   "display_name": "Python 3 (ipykernel)",
   "language": "python",
   "name": "python3"
  },
  "language_info": {
   "codemirror_mode": {
    "name": "ipython",
    "version": 3
   },
   "file_extension": ".py",
   "mimetype": "text/x-python",
   "name": "python",
   "nbconvert_exporter": "python",
   "pygments_lexer": "ipython3",
   "version": "3.9.20"
  }
 },
 "nbformat": 4,
 "nbformat_minor": 5
}
