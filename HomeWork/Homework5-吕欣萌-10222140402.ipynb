{
 "cells": [
  {
   "cell_type": "markdown",
   "id": "bc856060-98b7-41ab-a5bc-032f85320012",
   "metadata": {},
   "source": [
    "# Homework 5 (10.29)"
   ]
  },
  {
   "cell_type": "markdown",
   "id": "02d74443-1a3a-4109-a1b4-fadfdb152d21",
   "metadata": {},
   "source": [
    "### 2023级  10222140402  吕欣萌"
   ]
  },
  {
   "cell_type": "markdown",
   "id": "0408c92a-ab16-44d3-af97-ff3a252c5e0e",
   "metadata": {},
   "source": [
    "0.所有的题目结果中，给出SQL语句和执行结果。"
   ]
  },
  {
   "cell_type": "code",
   "execution_count": 15,
   "id": "5f341127-8bfa-4e8b-a3cd-f008746fe2fb",
   "metadata": {},
   "outputs": [],
   "source": [
    "import mysql.connector\n",
    "\n",
    "# 连接到MySQL服务器\n",
    "connection = mysql.connector.connect(\n",
    "    host=\"localhost\",\n",
    "    user=\"root\",\n",
    "    password=\"13732875168Lxm\" #替换为你的密码 \n",
    ")\n",
    "\n",
    "cursor = connection.cursor()\n",
    "cursor.execute(\"CREATE DATABASE IF NOT EXISTS qing\")\n",
    "cursor.execute(\"USE qing\")"
   ]
  },
  {
   "cell_type": "markdown",
   "id": "bc68e65c-98b4-45c5-9e19-48bc0ab58bc0",
   "metadata": {},
   "source": [
    "1.在新数据库中新建一张 user 表,插入几条数据,属性包含:唯一标识(id),姓名(name)性别(sex).年龄(age).联系方式(phone)，数据如下：\n",
    "\n",
    "('John Doe', 'Male', 25, '123-456-7890')\n",
    "\n",
    "('Jane Smith', 'Female', 31, '987-654-3210')\n",
    "\n",
    "('Bob Johnson', 'Male', 22, '555-123-4567')"
   ]
  },
  {
   "cell_type": "code",
   "execution_count": 16,
   "id": "1791730e-41f6-420f-81ea-cbbf78556919",
   "metadata": {},
   "outputs": [],
   "source": [
    "# 删除表的 SQL 语句\n",
    "cursor.execute(\"DROP TABLE IF EXISTS user,score,team;\");"
   ]
  },
  {
   "cell_type": "code",
   "execution_count": 17,
   "id": "5b58875c-3ed2-493a-8fe7-f7c1e776de74",
   "metadata": {},
   "outputs": [
    {
     "name": "stdout",
     "output_type": "stream",
     "text": [
      "(1, 'John Doe', 'Male', 25, '123-456-7890')\n",
      "(2, 'Jane Smith', 'Female', 31, '987-654-3210')\n",
      "(3, 'Bob Johnson', 'Male', 22, '555-123-4567')\n",
      "(4, 'Taylor Swift', 'Female', 17, '555-123-4568')\n"
     ]
    }
   ],
   "source": [
    "# 创建 user 表\n",
    "sql = \"\"\"\n",
    "CREATE TABLE IF NOT EXISTS user (\n",
    "    id INT PRIMARY KEY,\n",
    "    name VARCHAR(255),\n",
    "    sex VARCHAR(10),\n",
    "    age INT,\n",
    "    phone VARCHAR(20)\n",
    ");\n",
    "\"\"\"\n",
    "cursor.execute(sql)\n",
    "\n",
    "# 插入数据\n",
    "insert_data_query = \"\"\"\n",
    "INSERT INTO user (id, name, sex, age, phone) VALUES\n",
    "    (1, 'John Doe', 'Male', 25, '123-456-7890'),\n",
    "    (2, 'Jane Smith', 'Female', 31, '987-654-3210'),\n",
    "    (3, 'Bob Johnson', 'Male', 22, '555-123-4567'),\n",
    "    (4, 'Taylor Swift', 'Female', 17, '555-123-4568');\n",
    "\"\"\"\n",
    "cursor.execute(insert_data_query)\n",
    "\n",
    "select_query = \"SELECT * FROM user;\"\n",
    "cursor.execute(select_query)\n",
    "\n",
    "results = cursor.fetchall()\n",
    "for row in results:\n",
    "    print(row)"
   ]
  },
  {
   "cell_type": "markdown",
   "id": "ec7d58e8-6173-4424-abf3-9ae0467e60d2",
   "metadata": {},
   "source": [
    "2.写出 SQL语句,查询 user 表中所有年龄在 20-30 范围内的用户。"
   ]
  },
  {
   "cell_type": "code",
   "execution_count": 18,
   "id": "e3745501-d5c2-4177-9a94-8e423a2cf78d",
   "metadata": {},
   "outputs": [
    {
     "name": "stdout",
     "output_type": "stream",
     "text": [
      "(1, 'John Doe', 'Male', 25, '123-456-7890')\n",
      "(3, 'Bob Johnson', 'Male', 22, '555-123-4567')\n"
     ]
    }
   ],
   "source": [
    "# 查询年龄在 20 - 30 范围内的用户 SQL 语句\n",
    "select_query = \"SELECT * FROM user WHERE age BETWEEN 20 AND 30;\"\n",
    "cursor.execute(select_query)\n",
    "results = cursor.fetchall()\n",
    "for row in results:\n",
    "    print(row)"
   ]
  },
  {
   "cell_type": "markdown",
   "id": "1e254701-9c71-4553-a9df-c9136162248c",
   "metadata": {},
   "source": [
    "3.写出SQL语句，向user表中添加自己的个人信息，并添加几条和你姓名同姓的虚拟信息。"
   ]
  },
  {
   "cell_type": "code",
   "execution_count": 19,
   "id": "f7ba30dd-a8c2-4a16-be6e-6f58bac02af1",
   "metadata": {
    "scrolled": true
   },
   "outputs": [
    {
     "name": "stdout",
     "output_type": "stream",
     "text": [
      "(1, 'John Doe', 'Male', 25, '123-456-7890')\n",
      "(2, 'Jane Smith', 'Female', 31, '987-654-3210')\n",
      "(3, 'Bob Johnson', 'Male', 22, '555-123-4567')\n",
      "(4, 'Taylor Swift', 'Female', 17, '555-123-4568')\n",
      "(5, 'Lv Xinmeng', 'Female', 21, '598-154-1458')\n",
      "(6, 'Lv Buwei', 'Male', 35, '996-112-4815')\n",
      "(7, 'Lvzhi', 'Female', 28, '457-123-7889')\n",
      "(8, 'Lvyi', 'Female', 19, '152-123-4545')\n"
     ]
    }
   ],
   "source": [
    "new_insert_query = \"\"\"\n",
    "INSERT INTO user (id, name, sex, age, phone) VALUES\n",
    "    (5, 'Lv Xinmeng', 'Female', 21, '598-154-1458'),\n",
    "    (6, 'Lv Buwei', 'Male', 35, '996-112-4815'),\n",
    "    (7, 'Lvzhi', 'Female', 28, '457-123-7889'),\n",
    "    (8, 'Lvyi', 'Female', 19, '152-123-4545');\n",
    "\"\"\"\n",
    "cursor.execute(new_insert_query)\n",
    "\n",
    "# 查询并打印全部数据\n",
    "select_all_query = \"SELECT * FROM user;\"\n",
    "cursor.execute(select_all_query)\n",
    "results = cursor.fetchall()\n",
    "for row in results:\n",
    "    print(row)"
   ]
  },
  {
   "cell_type": "markdown",
   "id": "90842af6-9921-46dd-be03-809ea1224d9c",
   "metadata": {},
   "source": [
    "4.写出 SQL语句,查询 user 表中年龄在 20-30 范围内,名字包含“你的姓氏”的用户,并按照年龄从大到小排序输出。"
   ]
  },
  {
   "cell_type": "code",
   "execution_count": 20,
   "id": "e1a46d36-2aa0-475b-87ba-1834215b236c",
   "metadata": {},
   "outputs": [
    {
     "name": "stdout",
     "output_type": "stream",
     "text": [
      "(7, 'Lvzhi', 'Female', 28, '457-123-7889')\n",
      "(5, 'Lv Xinmeng', 'Female', 21, '598-154-1458')\n"
     ]
    }
   ],
   "source": [
    "sql_query = \"\"\"\n",
    "SELECT * FROM user \n",
    "WHERE age BETWEEN 20 AND 30 AND name LIKE '%Lv%' \n",
    "ORDER BY age DESC;\n",
    "\"\"\"\n",
    "cursor.execute(sql_query)\n",
    "results = cursor.fetchall()\n",
    "for row in results:\n",
    "    print(row)"
   ]
  },
  {
   "cell_type": "markdown",
   "id": "6ebafd4c-d3ce-4187-aa6f-a733224aff0b",
   "metadata": {},
   "source": [
    "5.写出 SQL 语句,计算 user 表中所有用户的平均年龄。"
   ]
  },
  {
   "cell_type": "code",
   "execution_count": 21,
   "id": "401b806e-4282-4361-8c1d-fa6b0caf3bad",
   "metadata": {},
   "outputs": [
    {
     "name": "stdout",
     "output_type": "stream",
     "text": [
      "平均年龄为：24.7500\n"
     ]
    }
   ],
   "source": [
    "sql_query = \"SELECT AVG(age) FROM user;\"\n",
    "cursor.execute(sql_query)\n",
    "result = cursor.fetchone()\n",
    "if result:\n",
    "    print(f\"平均年龄为：{result[0]}\")"
   ]
  },
  {
   "cell_type": "markdown",
   "id": "a815dc9a-b435-4a8d-9285-d2a109570ac5",
   "metadata": {},
   "source": [
    "6.新建两张表team 表(id,teamName)和score 表(id,teamid,userid,score)。其中score 表中的 teamid 为指向 team表id 的外键，userid 为指向 user表id的外键。"
   ]
  },
  {
   "cell_type": "code",
   "execution_count": 22,
   "id": "4edbd736-a022-497d-bf3d-5f36c9e095bd",
   "metadata": {},
   "outputs": [],
   "source": [
    "# 创建 team 表\n",
    "create_team_table_query = \"\"\"\n",
    "CREATE TABLE team (\n",
    "    id INT AUTO_INCREMENT PRIMARY KEY,\n",
    "    teamName VARCHAR(255)\n",
    ");\n",
    "\"\"\"\n",
    "cursor.execute(create_team_table_query)\n",
    "\n",
    "# 创建 score 表，并设置外键约束\n",
    "create_score_table_query = \"\"\"\n",
    "CREATE TABLE score (\n",
    "    id INT AUTO_INCREMENT PRIMARY KEY,\n",
    "    teamid INT,\n",
    "    userid INT,\n",
    "    score INT,\n",
    "    FOREIGN KEY (teamid) REFERENCES team(id),\n",
    "    FOREIGN KEY (userid) REFERENCES user(id)\n",
    ");\n",
    "\"\"\"\n",
    "cursor.execute(create_score_table_query)"
   ]
  },
  {
   "cell_type": "markdown",
   "id": "be1588cd-3377-47d1-afea-f7e148bf8e50",
   "metadata": {},
   "source": [
    "7.在team表中和score表中插入合适的记录，写出 SQL语句,查询 teamName 为“ECNU”的队伍中，年龄小于 20 的用户们，结果不得为空。"
   ]
  },
  {
   "cell_type": "code",
   "execution_count": 23,
   "id": "25993a02-a823-4af7-afe4-7d6e2bc44792",
   "metadata": {},
   "outputs": [
    {
     "name": "stdout",
     "output_type": "stream",
     "text": [
      "(8, 'Lvyi', 'Female', 19, '152-123-4545')\n"
     ]
    }
   ],
   "source": [
    "# 插入多条 team 表记录\n",
    "insert_team_query = \"INSERT INTO team (teamName) VALUES ('ECNU'), ('AnotherTeam');\"\n",
    "cursor.execute(insert_team_query)\n",
    "\n",
    "# 插入多条 score 表记录，假设已有合适的用户记录在 user 表中\n",
    "insert_score_query = \"\"\"\n",
    "INSERT INTO score (teamid, userid, score) VALUES\n",
    "    (1, 7, 85),\n",
    "    (1, 8, 90),\n",
    "    (2, 5, 78),\n",
    "    (2, 6, 82);\n",
    "\"\"\"\n",
    "cursor.execute(insert_score_query)\n",
    "\n",
    "# 查询 teamName 为“ECNU”的队伍中，年龄小于 20 的用户们\n",
    "query = \"\"\"\n",
    "SELECT u.*\n",
    "FROM user u\n",
    "JOIN score s ON u.id = s.userid\n",
    "JOIN team t ON t.id = s.teamid\n",
    "WHERE t.teamName = 'ECNU' AND u.age < 20;\n",
    "\"\"\"\n",
    "cursor.execute(query)\n",
    "results = cursor.fetchall()\n",
    "if results:\n",
    "    for row in results:\n",
    "        print(row)\n",
    "else:\n",
    "    print(\"没有满足条件的记录\")"
   ]
  },
  {
   "cell_type": "markdown",
   "id": "24cb3363-7ef5-4914-962c-7d607de0057f",
   "metadata": {},
   "source": [
    "8.写出 SQL 语句,计算 teamName为“ECNU”的总分(假设 score 存在 null值,nul值默认为 0 加入计算)。"
   ]
  },
  {
   "cell_type": "code",
   "execution_count": 24,
   "id": "6708a457-3252-4aa5-9a93-850890766b00",
   "metadata": {},
   "outputs": [
    {
     "name": "stdout",
     "output_type": "stream",
     "text": [
      "ECNU 的总分为：175\n"
     ]
    }
   ],
   "source": [
    "# 查询 teamName 为“ECNU”的总分\n",
    "query = \"\"\"\n",
    "SELECT SUM(COALESCE(s.score, 0)) AS total_score\n",
    "FROM team t\n",
    "JOIN score s ON t.id = s.teamid\n",
    "WHERE t.teamName = 'ECNU';\n",
    "\"\"\"\n",
    "cursor.execute(query)\n",
    "result = cursor.fetchone()\n",
    "if result and result[0] is not None:\n",
    "    print(f\"ECNU 的总分为：{result[0]}\")\n",
    "else:\n",
    "    print(\"没有找到 ECNU 的总分信息\")"
   ]
  },
  {
   "cell_type": "markdown",
   "id": "52382182-5709-455a-9a1b-0ba0fd628e7d",
   "metadata": {},
   "source": [
    "9.写出SQL语句，删除user表中个人信息的记录。"
   ]
  },
  {
   "cell_type": "code",
   "execution_count": 26,
   "id": "ffca78ac-3e81-493d-a2e8-1cf97176693b",
   "metadata": {},
   "outputs": [
    {
     "name": "stdout",
     "output_type": "stream",
     "text": [
      "(1, 'John Doe', 'Male', 25, '123-456-7890')\n",
      "(2, 'Jane Smith', 'Female', 31, '987-654-3210')\n",
      "(3, 'Bob Johnson', 'Male', 22, '555-123-4567')\n",
      "(4, 'Taylor Swift', 'Female', 17, '555-123-4568')\n",
      "(6, 'Lv Buwei', 'Male', 35, '996-112-4815')\n",
      "(7, 'Lvzhi', 'Female', 28, '457-123-7889')\n",
      "(8, 'Lvyi', 'Female', 19, '152-123-4545')\n"
     ]
    }
   ],
   "source": [
    "# 临时关闭外键检查\n",
    "cursor.execute(\"SET FOREIGN_KEY_CHECKS=0;\")\n",
    "\n",
    "# 假设删除名字为'Lv Buwei'的记录\n",
    "delete_query = \"DELETE FROM user WHERE name = 'Lv Xinmeng';\"\n",
    "cursor.execute(delete_query)\n",
    "\n",
    "# 恢复外键检查\n",
    "cursor.execute(\"SET FOREIGN_KEY_CHECKS=1;\")\n",
    "\n",
    "# 查询并打印剩余的记录\n",
    "select_all_query = \"SELECT * FROM user;\"\n",
    "cursor.execute(select_all_query)\n",
    "results = cursor.fetchall()\n",
    "for row in results:\n",
    "    print(row)"
   ]
  },
  {
   "cell_type": "code",
   "execution_count": 27,
   "id": "2d36bdc5-651f-4f58-a832-2ecb92733e07",
   "metadata": {},
   "outputs": [],
   "source": [
    "# 关闭连接\n",
    "connection.close()"
   ]
  }
 ],
 "metadata": {
  "kernelspec": {
   "display_name": "Python 3 (ipykernel)",
   "language": "python",
   "name": "python3"
  },
  "language_info": {
   "codemirror_mode": {
    "name": "ipython",
    "version": 3
   },
   "file_extension": ".py",
   "mimetype": "text/x-python",
   "name": "python",
   "nbconvert_exporter": "python",
   "pygments_lexer": "ipython3",
   "version": "3.9.20"
  }
 },
 "nbformat": 4,
 "nbformat_minor": 5
}
